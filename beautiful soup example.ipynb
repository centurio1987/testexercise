{
 "cells": [
  {
   "cell_type": "code",
   "execution_count": 2,
   "metadata": {
    "collapsed": false
   },
   "outputs": [],
   "source": [
    "import requests\n",
    "from bs4 import BeautifulSoup"
   ]
  },
  {
   "cell_type": "code",
   "execution_count": 9,
   "metadata": {
    "collapsed": false
   },
   "outputs": [],
   "source": [
    "def spider():\n",
    "    url = 'http://news.naver.com/main/search/search.nhn?query=%B9%AF%C1%F6%B8%B6+%BB%EC%C0%CE&ie=MS949&x=0&y=0'\n",
    "    code = requests.get(url)\n",
    "    t_file = code.text\n",
    "    soup = BeautifulSoup(t_file, 'html.parser')\n",
    "    \n",
    "    for news in soup.find_all('a','tit'):\n",
    "        title = news.text\n",
    "        link = news.get('href')\n",
    "        print(title)\n",
    "        print(link)\n",
    "    \n",
    "    for press in soup.find_all('span', 'press'):\n",
    "        pr = press.text\n",
    "        print(pr)"
   ]
  },
  {
   "cell_type": "code",
   "execution_count": 10,
   "metadata": {
    "collapsed": false
   },
   "outputs": [
    {
     "name": "stdout",
     "output_type": "stream",
     "text": [
      "박원순 \"'강남역 묻지마 살인사건' 현장보존 조치…혐오범죄 치유할 것\"\n",
      "http://news.chosun.com/site/data/html_dir/2016/05/19/2016051901729.html\n",
      "[현장영상] 강남 묻지마 살인 추모 행렬 이어져\n",
      "http://www.ytn.co.kr/_ln/0103_201605191739509870\n",
      "박원순 시장, '강남역 묻지마 살인' 현장 방문...서울시 여성안심대책은\n",
      "http://news.kmib.co.kr/article/view.asp?arcid=0010630761&code=61121111&cp=nv\n",
      "'묻지마 살인'…서초구 화장실 전수조사한다\n",
      "http://app.yonhapnews.co.kr/YNA/Basic/SNS/r.aspx?c=AKR20160519157800004&did=1195m\n",
      "김흥국, 강남역 묻지마 살인 언급 \"여성이 마음놓고 사는 세상 만들어야\"\n",
      "http://www.hankyung.com/news/app/newsview.php?aid=201605195530H\n",
      "'묻지마 살인' 현장 가보니…상인들 \"강남 상권 위축될까 걱정\"\n",
      "http://www.focus.kr/view.php?key=2016051900182912539\n",
      "‘강남역 묻지마 살인’, 법의 사각지대 남녀 공용화장실…표창원 “정부 범죄위험불감증도 문제”\n",
      "http://www.seoul.co.kr/news/newsView.php?id=20160519500247\n",
      "강남 묻지마 살인 발생에도 한국,세계 치안 순위 1위!\n",
      "http://www.ajunews.com/view/20160519182202691\n",
      "대처불능 '묻지마 범죄'…10건 중 8건은 상해·살인\n",
      "http://www.edaily.co.kr/news/newspath.asp?newsid=03840886612650560\n",
      "강남 묻지마 살인, 곽정은 “운이 좋아 살아남은 사람으로...”\n",
      "http://www.fnnews.com/news/201605191902036718\n",
      "조선일보\n",
      "국민일보\n",
      "아시아경제\n",
      "이데일리\n",
      "서울신문\n",
      "YTN\n",
      "아주경제\n",
      "YTN\n",
      "국민일보\n",
      "연합뉴스\n",
      "국제신문\n",
      "서울신문\n",
      "SBS 뉴스\n",
      "연합뉴스\n",
      "tbs 교통방송\n",
      "한국경제\n",
      "스타서울TV\n",
      "매일경제\n",
      "포커스뉴스\n",
      "서울신문\n",
      "조선일보\n",
      "이투데이\n",
      "한국경제\n",
      "아주경제\n",
      "이데일리\n",
      "파이낸셜뉴스\n"
     ]
    }
   ],
   "source": [
    "spider()"
   ]
  },
  {
   "cell_type": "code",
   "execution_count": null,
   "metadata": {
    "collapsed": true
   },
   "outputs": [],
   "source": []
  }
 ],
 "metadata": {
  "kernelspec": {
   "display_name": "Python 3",
   "language": "python",
   "name": "python3"
  },
  "language_info": {
   "codemirror_mode": {
    "name": "ipython",
    "version": 3
   },
   "file_extension": ".py",
   "mimetype": "text/x-python",
   "name": "python",
   "nbconvert_exporter": "python",
   "pygments_lexer": "ipython3",
   "version": "3.4.3"
  }
 },
 "nbformat": 4,
 "nbformat_minor": 0
}
