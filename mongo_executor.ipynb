{
 "cells": [
  {
   "cell_type": "code",
   "execution_count": 1,
   "metadata": {
    "collapsed": true
   },
   "outputs": [],
   "source": [
    "from pymongo import MongoClient"
   ]
  },
  {
   "cell_type": "code",
   "execution_count": 4,
   "metadata": {},
   "outputs": [],
   "source": [
    "client = MongoClient()"
   ]
  },
  {
   "cell_type": "code",
   "execution_count": 5,
   "metadata": {},
   "outputs": [],
   "source": [
    "db = client.aggr_ex"
   ]
  },
  {
   "cell_type": "code",
   "execution_count": 6,
   "metadata": {},
   "outputs": [
    {
     "data": {
      "text/plain": [
       "<pymongo.results.InsertManyResult at 0x104197ee8>"
      ]
     },
     "execution_count": 6,
     "metadata": {},
     "output_type": "execute_result"
    }
   ],
   "source": [
    "db.zips.insert_many([{ \"_id\" : \"01001\", \"city\" : \"AGAWAM\", \"loc\" : [ -72.622739, 42.070206 ], \"pop\" : 15338, \"state\" : \"MA\" },\n",
    "{ \"_id\" : \"01002\", \"city\" : \"CUSHMAN\", \"loc\" : [ -72.51564999999999, 42.377017 ], \"pop\" : 36963, \"state\" : \"MA\" },\n",
    "{ \"_id\" : \"01005\", \"city\" : \"BARRE\", \"loc\" : [ -72.10835400000001, 42.409698 ], \"pop\" : 4546, \"state\" : \"MA\" },\n",
    "{ \"_id\" : \"01007\", \"city\" : \"BELCHERTOWN\", \"loc\" : [ -72.41095300000001, 42.275103 ], \"pop\" : 10579, \"state\" : \"MA\" },\n",
    "{ \"_id\" : \"01008\", \"city\" : \"BLANDFORD\", \"loc\" : [ -72.936114, 42.182949 ], \"pop\" : 1240, \"state\" : \"MA\" },\n",
    "{ \"_id\" : \"01010\", \"city\" : \"BRIMFIELD\", \"loc\" : [ -72.188455, 42.116543 ], \"pop\" : 3706, \"state\" : \"MA\" },\n",
    "{ \"_id\" : \"01011\", \"city\" : \"CHESTER\", \"loc\" : [ -72.988761, 42.279421 ], \"pop\" : 1688, \"state\" : \"MA\" },\n",
    "{ \"_id\" : \"01012\", \"city\" : \"CHESTERFIELD\", \"loc\" : [ -72.833309, 42.38167 ], \"pop\" : 177, \"state\" : \"MA\" },\n",
    "{ \"_id\" : \"01013\", \"city\" : \"CHICOPEE\", \"loc\" : [ -72.607962, 42.162046 ], \"pop\" : 23396, \"state\" : \"MA\" },\n",
    "{ \"_id\" : \"01020\", \"city\" : \"CHICOPEE\", \"loc\" : [ -72.576142, 42.176443 ], \"pop\" : 31495, \"state\" : \"MA\" },\n",
    "{ \"_id\" : \"01022\", \"city\" : \"WESTOVER AFB\", \"loc\" : [ -72.558657, 42.196672 ], \"pop\" : 1764, \"state\" : \"MA\" },\n",
    "{ \"_id\" : \"01026\", \"city\" : \"CUMMINGTON\", \"loc\" : [ -72.905767, 42.435296 ], \"pop\" : 1484, \"state\" : \"MA\" },\n",
    "{ \"_id\" : \"01027\", \"city\" : \"MOUNT TOM\", \"loc\" : [ -72.67992099999999, 42.264319 ], \"pop\" : 16864, \"state\" : \"MA\" },\n",
    "{ \"_id\" : \"01028\", \"city\" : \"EAST LONGMEADOW\", \"loc\" : [ -72.505565, 42.067203 ], \"pop\" : 13367, \"state\" : \"MA\" },\n",
    "{ \"_id\" : \"01030\", \"city\" : \"FEEDING HILLS\", \"loc\" : [ -72.675077, 42.07182 ], \"pop\" : 11985, \"state\" : \"MA\" },\n",
    "{ \"_id\" : \"01031\", \"city\" : \"GILBERTVILLE\", \"loc\" : [ -72.19858499999999, 42.332194 ], \"pop\" : 2385, \"state\" : \"MA\" },\n",
    "{ \"_id\" : \"01032\", \"city\" : \"GOSHEN\", \"loc\" : [ -72.844092, 42.466234 ], \"pop\" : 122, \"state\" : \"MA\" },\n",
    "{ \"_id\" : \"01033\", \"city\" : \"GRANBY\", \"loc\" : [ -72.52000099999999, 42.255704 ], \"pop\" : 5526, \"state\" : \"MA\" },\n",
    "{ \"_id\" : \"01034\", \"city\" : \"TOLLAND\", \"loc\" : [ -72.908793, 42.070234 ], \"pop\" : 1652, \"state\" : \"MA\" },\n",
    "{ \"_id\" : \"01035\", \"city\" : \"HADLEY\", \"loc\" : [ -72.571499, 42.36062 ], \"pop\" : 4231, \"state\" : \"MA\" },\n",
    "{ \"_id\" : \"01036\", \"city\" : \"HAMPDEN\", \"loc\" : [ -72.43182299999999, 42.064756 ], \"pop\" : 4709, \"state\" : \"MA\" },\n",
    "{ \"_id\" : \"01038\", \"city\" : \"HATFIELD\", \"loc\" : [ -72.61673500000001, 42.38439 ], \"pop\" : 3184, \"state\" : \"MA\" },\n",
    "{ \"_id\" : \"01039\", \"city\" : \"HAYDENVILLE\", \"loc\" : [ -72.70317799999999, 42.381799 ], \"pop\" : 1387, \"state\" : \"MA\" },\n",
    "{ \"_id\" : \"01040\", \"city\" : \"HOLYOKE\", \"loc\" : [ -72.626193, 42.202007 ], \"pop\" : 43704, \"state\" : \"MA\" },\n",
    "{ \"_id\" : \"01050\", \"city\" : \"HUNTINGTON\", \"loc\" : [ -72.873341, 42.265301 ], \"pop\" : 2084, \"state\" : \"MA\" },\n",
    "{ \"_id\" : \"01053\", \"city\" : \"LEEDS\", \"loc\" : [ -72.70340299999999, 42.354292 ], \"pop\" : 1350, \"state\" : \"MA\" },\n",
    "{ \"_id\" : \"01054\", \"city\" : \"LEVERETT\", \"loc\" : [ -72.499334, 42.46823 ], \"pop\" : 1748, \"state\" : \"MA\" },\n",
    "{ \"_id\" : \"01056\", \"city\" : \"LUDLOW\", \"loc\" : [ -72.471012, 42.172823 ], \"pop\" : 18820, \"state\" : \"MA\" },\n",
    "{ \"_id\" : \"01057\", \"city\" : \"MONSON\", \"loc\" : [ -72.31963399999999, 42.101017 ], \"pop\" : 8194, \"state\" : \"MA\" },\n",
    "{ \"_id\" : \"01060\", \"city\" : \"FLORENCE\", \"loc\" : [ -72.654245, 42.324662 ], \"pop\" : 27939, \"state\" : \"MA\" },\n",
    "{ \"_id\" : \"01068\", \"city\" : \"OAKHAM\", \"loc\" : [ -72.051265, 42.348033 ], \"pop\" : 1503, \"state\" : \"MA\" },\n",
    "{ \"_id\" : \"01069\", \"city\" : \"PALMER\", \"loc\" : [ -72.328785, 42.176233 ], \"pop\" : 9778, \"state\" : \"MA\" }])"
   ]
  },
  {
   "cell_type": "code",
   "execution_count": 8,
   "metadata": {},
   "outputs": [
    {
     "name": "stdout",
     "output_type": "stream",
     "text": [
      "{'city': 'AGAWAM', 'state': 'MA', 'pop': 15338, 'loc': [-72.622739, 42.070206], '_id': '01001'}\n{'city': 'CUSHMAN', 'state': 'MA', 'pop': 36963, 'loc': [-72.51565, 42.377017], '_id': '01002'}\n{'city': 'BARRE', 'state': 'MA', 'pop': 4546, 'loc': [-72.108354, 42.409698], '_id': '01005'}\n{'city': 'BELCHERTOWN', 'state': 'MA', 'pop': 10579, 'loc': [-72.410953, 42.275103], '_id': '01007'}\n{'city': 'BLANDFORD', 'state': 'MA', 'pop': 1240, 'loc': [-72.936114, 42.182949], '_id': '01008'}\n{'city': 'BRIMFIELD', 'state': 'MA', 'pop': 3706, 'loc': [-72.188455, 42.116543], '_id': '01010'}\n{'city': 'CHESTER', 'state': 'MA', 'pop': 1688, 'loc': [-72.988761, 42.279421], '_id': '01011'}\n{'city': 'CHESTERFIELD', 'state': 'MA', 'pop': 177, 'loc': [-72.833309, 42.38167], '_id': '01012'}\n{'city': 'CHICOPEE', 'state': 'MA', 'pop': 23396, 'loc': [-72.607962, 42.162046], '_id': '01013'}\n{'city': 'CHICOPEE', 'state': 'MA', 'pop': 31495, 'loc': [-72.576142, 42.176443], '_id': '01020'}\n{'city': 'WESTOVER AFB', 'state': 'MA', 'pop': 1764, 'loc': [-72.558657, 42.196672], '_id': '01022'}\n{'city': 'CUMMINGTON', 'state': 'MA', 'pop': 1484, 'loc': [-72.905767, 42.435296], '_id': '01026'}\n{'city': 'MOUNT TOM', 'state': 'MA', 'pop': 16864, 'loc': [-72.679921, 42.264319], '_id': '01027'}\n{'city': 'EAST LONGMEADOW', 'state': 'MA', 'pop': 13367, 'loc': [-72.505565, 42.067203], '_id': '01028'}\n{'city': 'FEEDING HILLS', 'state': 'MA', 'pop': 11985, 'loc': [-72.675077, 42.07182], '_id': '01030'}\n{'city': 'GILBERTVILLE', 'state': 'MA', 'pop': 2385, 'loc': [-72.198585, 42.332194], '_id': '01031'}\n{'city': 'GOSHEN', 'state': 'MA', 'pop': 122, 'loc': [-72.844092, 42.466234], '_id': '01032'}\n{'city': 'GRANBY', 'state': 'MA', 'pop': 5526, 'loc': [-72.520001, 42.255704], '_id': '01033'}\n{'city': 'TOLLAND', 'state': 'MA', 'pop': 1652, 'loc': [-72.908793, 42.070234], '_id': '01034'}\n{'city': 'HADLEY', 'state': 'MA', 'pop': 4231, 'loc': [-72.571499, 42.36062], '_id': '01035'}\n{'city': 'HAMPDEN', 'state': 'MA', 'pop': 4709, 'loc': [-72.431823, 42.064756], '_id': '01036'}\n{'city': 'HATFIELD', 'state': 'MA', 'pop': 3184, 'loc': [-72.616735, 42.38439], '_id': '01038'}\n{'city': 'HAYDENVILLE', 'state': 'MA', 'pop': 1387, 'loc': [-72.703178, 42.381799], '_id': '01039'}\n{'city': 'HOLYOKE', 'state': 'MA', 'pop': 43704, 'loc': [-72.626193, 42.202007], '_id': '01040'}\n{'city': 'HUNTINGTON', 'state': 'MA', 'pop': 2084, 'loc': [-72.873341, 42.265301], '_id': '01050'}\n{'city': 'LEEDS', 'state': 'MA', 'pop': 1350, 'loc': [-72.703403, 42.354292], '_id': '01053'}\n{'city': 'LEVERETT', 'state': 'MA', 'pop': 1748, 'loc': [-72.499334, 42.46823], '_id': '01054'}\n{'city': 'LUDLOW', 'state': 'MA', 'pop': 18820, 'loc': [-72.471012, 42.172823], '_id': '01056'}\n{'city': 'MONSON', 'state': 'MA', 'pop': 8194, 'loc': [-72.319634, 42.101017], '_id': '01057'}\n{'city': 'FLORENCE', 'state': 'MA', 'pop': 27939, 'loc': [-72.654245, 42.324662], '_id': '01060'}\n{'city': 'OAKHAM', 'state': 'MA', 'pop': 1503, 'loc': [-72.051265, 42.348033], '_id': '01068'}\n{'city': 'PALMER', 'state': 'MA', 'pop': 9778, 'loc': [-72.328785, 42.176233], '_id': '01069'}\n"
     ]
    }
   ],
   "source": [
    "cursor = db.zips.find()\n",
    "for elem in cursor:\n",
    "    print(elem)"
   ]
  },
  {
   "cell_type": "code",
   "execution_count": 13,
   "metadata": {},
   "outputs": [],
   "source": [
    "result = db.zips.aggregate([\n",
    "    {'$group':{'_id': '$state', 'total_pop':{'$sum':'$pop'}}}\n",
    "])"
   ]
  },
  {
   "cell_type": "code",
   "execution_count": 14,
   "metadata": {},
   "outputs": [
    {
     "name": "stdout",
     "output_type": "stream",
     "text": [
      "{'_id': 'MA', 'total_pop': 312908}\n"
     ]
    }
   ],
   "source": [
    "for elem in result:\n",
    "    print(elem)"
   ]
  },
  {
   "cell_type": "code",
   "execution_count": null,
   "metadata": {},
   "outputs": [],
   "source": [
    ""
   ]
  }
 ],
 "metadata": {
  "kernelspec": {
   "display_name": "Python 2",
   "language": "python",
   "name": "python2"
  },
  "language_info": {
   "codemirror_mode": {
    "name": "ipython",
    "version": 2.0
   },
   "file_extension": ".py",
   "mimetype": "text/x-python",
   "name": "python",
   "nbconvert_exporter": "python",
   "pygments_lexer": "ipython2",
   "version": "2.7.6"
  }
 },
 "nbformat": 4,
 "nbformat_minor": 0
}